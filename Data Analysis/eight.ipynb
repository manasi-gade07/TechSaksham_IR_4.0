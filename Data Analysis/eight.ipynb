{
 "cells": [
  {
   "cell_type": "code",
   "execution_count": 1,
   "id": "a8a7cc21-b243-4d74-9a8d-45516bcfe859",
   "metadata": {},
   "outputs": [],
   "source": [
    "import pymysql\n",
    "myconn = pymysql.connect(\n",
    "\n",
    "    host = 'localhost',\n",
    "    user = 'root',\n",
    "    password = 'manasi',\n",
    "    database = 'pywit'\n",
    ")"
   ]
  },
  {
   "cell_type": "code",
   "execution_count": 2,
   "id": "447e7dbf-b56a-4785-bb0f-b589c1caf068",
   "metadata": {},
   "outputs": [],
   "source": [
    "cur = myconn.cursor()\n"
   ]
  },
  {
   "cell_type": "code",
   "execution_count": 3,
   "id": "1b058458-58b0-4adc-af0a-5704460c949b",
   "metadata": {},
   "outputs": [
    {
     "data": {
      "text/plain": [
       "11"
      ]
     },
     "execution_count": 3,
     "metadata": {},
     "output_type": "execute_result"
    }
   ],
   "source": [
    "cur.execute('show databases')"
   ]
  },
  {
   "cell_type": "code",
   "execution_count": 4,
   "id": "6092b214-9b90-418e-b2a2-9c6d20c6ef7b",
   "metadata": {},
   "outputs": [
    {
     "data": {
      "text/plain": [
       "1"
      ]
     },
     "execution_count": 4,
     "metadata": {},
     "output_type": "execute_result"
    }
   ],
   "source": [
    "cur.execute('show tables')"
   ]
  },
  {
   "cell_type": "code",
   "execution_count": 6,
   "id": "b283767b-6848-4ffa-b8a6-679e005c7eb7",
   "metadata": {},
   "outputs": [
    {
     "name": "stdout",
     "output_type": "stream",
     "text": [
      "('id', 'int', 'NO', 'PRI', None, '')\n",
      "('name', 'varchar(20)', 'YES', '', None, '')\n",
      "('age', 'int', 'YES', '', None, '')\n"
     ]
    }
   ],
   "source": [
    "cur.execute('desc newdata')\n",
    "for i in cur:\n",
    "    print(i)"
   ]
  },
  {
   "cell_type": "code",
   "execution_count": 7,
   "id": "3a6701b9-61dd-43e9-93b7-9eb0e6b9e5b0",
   "metadata": {},
   "outputs": [],
   "source": [
    "cur.execute('insert into newdata(id,name,age) values(%s,%s,%s)',(1,'ram',20));\n",
    "myconn.commit()"
   ]
  },
  {
   "cell_type": "code",
   "execution_count": 8,
   "id": "5bc9e241-cc8c-44ea-a1f1-31960e79739d",
   "metadata": {},
   "outputs": [],
   "source": [
    "#Multiple data insertion\n",
    "\n",
    "import pymysql\n",
    "myconn = pymysql.connect(\n",
    "\n",
    "    host = 'localhost',\n",
    "    user = 'root',\n",
    "    password = 'manasi',\n",
    "    database = 'pywit'\n",
    ")\n",
    "cur = myconn.cursor()\n",
    "query = 'insert into newdata(id,name,age) values(%s,%s,%s)'\n",
    "val = [\n",
    "    (2,'raman',19),(3,'adi',23),(4,'minu',56),(5,'chinu',87) \n",
    "]\n",
    "cur.executemany(query,val)\n",
    "myconn.commit()"
   ]
  },
  {
   "cell_type": "code",
   "execution_count": 9,
   "id": "49fa5be7-53f5-44af-bc8b-59641f0adea7",
   "metadata": {},
   "outputs": [
    {
     "data": {
      "text/plain": [
       "0"
      ]
     },
     "execution_count": 9,
     "metadata": {},
     "output_type": "execute_result"
    }
   ],
   "source": [
    "cur.execute('truncate table newdata')"
   ]
  },
  {
   "cell_type": "code",
   "execution_count": 14,
   "id": "6c6cc494-dafe-42bb-9ad8-73261df324c6",
   "metadata": {},
   "outputs": [
    {
     "data": {
      "text/plain": [
       "11"
      ]
     },
     "execution_count": 14,
     "metadata": {},
     "output_type": "execute_result"
    }
   ],
   "source": [
    "cur.execute('show databases')"
   ]
  },
  {
   "cell_type": "code",
   "execution_count": 16,
   "id": "6b8c4437-1e8e-42e0-9569-35a5222f36ed",
   "metadata": {},
   "outputs": [],
   "source": [
    "import pymysql\n",
    "myconn = pymysql.connect(\n",
    "\n",
    "    host = 'localhost',\n",
    "    user = 'root',\n",
    "    password = 'manasi',\n",
    "    database = 'pywit'\n",
    ")\n",
    "cur = myconn.cursor()\n",
    "cur.execute('delete from newdata where id=5')\n",
    "myconn.commit()"
   ]
  },
  {
   "cell_type": "code",
   "execution_count": 17,
   "id": "6f0b6443-7045-4c1e-bf70-d50c66a5e8da",
   "metadata": {},
   "outputs": [
    {
     "data": {
      "text/plain": [
       "1"
      ]
     },
     "execution_count": 17,
     "metadata": {},
     "output_type": "execute_result"
    }
   ],
   "source": [
    "import pymysql\n",
    "myconn = pymysql.connect(\n",
    "\n",
    "    host = 'localhost',\n",
    "    user = 'root',\n",
    "    password = 'manasi',\n",
    "    database = 'pywit'\n",
    ")\n",
    "cur = myconn.cursor()\n",
    "cur.execute('update newdata set name=\"riyansh\" where id=4')"
   ]
  },
  {
   "cell_type": "code",
   "execution_count": 19,
   "id": "b2d1ae29-b705-4373-ad88-661a7dd53458",
   "metadata": {},
   "outputs": [
    {
     "data": {
      "text/plain": [
       "1"
      ]
     },
     "execution_count": 19,
     "metadata": {},
     "output_type": "execute_result"
    }
   ],
   "source": [
    "import pymysql\n",
    "myconn = pymysql.connect(\n",
    "\n",
    "    host = 'localhost',\n",
    "    user = 'root',\n",
    "    password = 'manasi',\n",
    "    database = 'pywit'\n",
    ")\n",
    "cur = myconn.cursor()\n",
    "cur.execute(\"update newdata set name='riyansh' where id=4\")"
   ]
  },
  {
   "cell_type": "code",
   "execution_count": null,
   "id": "f1a9585f-6da8-47c9-9cbb-4f53466aa658",
   "metadata": {},
   "outputs": [],
   "source": []
  }
 ],
 "metadata": {
  "kernelspec": {
   "display_name": "Python 3 (ipykernel)",
   "language": "python",
   "name": "python3"
  },
  "language_info": {
   "codemirror_mode": {
    "name": "ipython",
    "version": 3
   },
   "file_extension": ".py",
   "mimetype": "text/x-python",
   "name": "python",
   "nbconvert_exporter": "python",
   "pygments_lexer": "ipython3",
   "version": "3.12.1"
  }
 },
 "nbformat": 4,
 "nbformat_minor": 5
}
