{
 "cells": [
  {
   "cell_type": "code",
   "execution_count": null,
   "id": "407b1d66-262b-45fd-a2fd-e873cc92b66b",
   "metadata": {},
   "outputs": [],
   "source": [
    "pip install mysql"
   ]
  },
  {
   "cell_type": "code",
   "execution_count": 1,
   "id": "f009c08f-1112-4f83-a827-c1af228acb26",
   "metadata": {},
   "outputs": [
    {
     "name": "stdout",
     "output_type": "stream",
     "text": [
      "^C\n",
      "Collecting mysql-connector\n",
      "  Downloading mysql-connector-2.2.9.tar.gz (11.9 MB)\n",
      "     ---------------------------------------- 0.0/11.9 MB ? eta -:--:--\n",
      "     ---------------------------------------- 0.0/11.9 MB ? eta -:--:--\n",
      "      --------------------------------------- 0.3/11.9 MB ? eta -:--:--\n",
      "     -- ------------------------------------- 0.8/11.9 MB 1.5 MB/s eta 0:00:08\n",
      "     --- ------------------------------------ 1.0/11.9 MB 1.5 MB/s eta 0:00:08\n",
      "     ---- ----------------------------------- 1.3/11.9 MB 1.5 MB/s eta 0:00:08\n",
      "     ----- ---------------------------------- 1.6/11.9 MB 1.3 MB/s eta 0:00:08\n",
      "     ------ --------------------------------- 1.8/11.9 MB 1.4 MB/s eta 0:00:08\n",
      "     ------- -------------------------------- 2.1/11.9 MB 1.4 MB/s eta 0:00:07\n",
      "     ------- -------------------------------- 2.4/11.9 MB 1.4 MB/s eta 0:00:07\n",
      "     --------- ------------------------------ 2.9/11.9 MB 1.4 MB/s eta 0:00:07\n",
      "     ---------- ----------------------------- 3.1/11.9 MB 1.4 MB/s eta 0:00:07\n",
      "     ----------- ---------------------------- 3.4/11.9 MB 1.4 MB/s eta 0:00:06\n",
      "     ------------ --------------------------- 3.7/11.9 MB 1.4 MB/s eta 0:00:06\n",
      "     ------------- -------------------------- 3.9/11.9 MB 1.4 MB/s eta 0:00:06\n",
      "     --------------- ------------------------ 4.5/11.9 MB 1.4 MB/s eta 0:00:06\n",
      "     --------------- ------------------------ 4.7/11.9 MB 1.4 MB/s eta 0:00:05\n",
      "     ----------------- ---------------------- 5.2/11.9 MB 1.5 MB/s eta 0:00:05\n",
      "     ------------------ --------------------- 5.5/11.9 MB 1.5 MB/s eta 0:00:05\n",
      "     ------------------- -------------------- 5.8/11.9 MB 1.4 MB/s eta 0:00:05\n",
      "     -------------------- ------------------- 6.0/11.9 MB 1.5 MB/s eta 0:00:05\n",
      "     -------------------- ------------------- 6.0/11.9 MB 1.5 MB/s eta 0:00:05\n",
      "     ---------------------- ----------------- 6.6/11.9 MB 1.4 MB/s eta 0:00:04\n",
      "     ----------------------- ---------------- 6.8/11.9 MB 1.4 MB/s eta 0:00:04\n",
      "     ----------------------- ---------------- 7.1/11.9 MB 1.4 MB/s eta 0:00:04\n",
      "     ------------------------ --------------- 7.3/11.9 MB 1.4 MB/s eta 0:00:04\n",
      "     ------------------------- -------------- 7.6/11.9 MB 1.4 MB/s eta 0:00:04\n",
      "     --------------------------- ------------ 8.1/11.9 MB 1.4 MB/s eta 0:00:03\n",
      "     ---------------------------- ----------- 8.4/11.9 MB 1.4 MB/s eta 0:00:03\n",
      "     ------------------------------ --------- 8.9/11.9 MB 1.5 MB/s eta 0:00:03\n",
      "     ------------------------------- -------- 9.4/11.9 MB 1.5 MB/s eta 0:00:02\n",
      "     --------------------------------- ------ 10.0/11.9 MB 1.5 MB/s eta 0:00:02\n",
      "     ------------------------------------ --- 10.7/11.9 MB 1.6 MB/s eta 0:00:01\n",
      "     ------------------------------------- -- 11.0/11.9 MB 1.6 MB/s eta 0:00:01\n",
      "     ---------------------------------------  11.8/11.9 MB 1.7 MB/s eta 0:00:01\n",
      "     ---------------------------------------- 11.9/11.9 MB 1.6 MB/s eta 0:00:00\n",
      "  Preparing metadata (setup.py): started\n",
      "  Preparing metadata (setup.py): finished with status 'done'\n",
      "Building wheels for collected packages: mysql-connector\n",
      "  Building wheel for mysql-connector (setup.py): started\n",
      "Note: you may need to restart the kernel to use updated packages.\n"
     ]
    }
   ],
   "source": []
  },
  {
   "cell_type": "code",
   "execution_count": 1,
   "id": "284ae648-6dee-48f8-ac63-1cb21fcedc75",
   "metadata": {},
   "outputs": [
    {
     "name": "stdout",
     "output_type": "stream",
     "text": [
      "Collecting mysql-connector\n",
      "  Using cached mysql-connector-2.2.9.tar.gz (11.9 MB)\n",
      "  Preparing metadata (setup.py): started\n",
      "  Preparing metadata (setup.py): finished with status 'done'\n",
      "Building wheels for collected packages: mysql-connector\n",
      "  Building wheel for mysql-connector (setup.py): started\n",
      "  Building wheel for mysql-connector (setup.py): finished with status 'done'\n",
      "  Created wheel for mysql-connector: filename=mysql_connector-2.2.9-cp312-cp312-win_amd64.whl size=247960 sha256=a11fd6346f1d5b913fea9ed0d9430d3343e555d05874ad87a7993fb438d72ec5\n",
      "  Stored in directory: c:\\users\\manasi\\appdata\\local\\pip\\cache\\wheels\\03\\17\\fa\\d7604c72dd3dd6d3eb3d249abf36cc532c9a9b4354b8f1bc4f\n",
      "Successfully built mysql-connector\n",
      "Installing collected packages: mysql-connector\n",
      "Successfully installed mysql-connector-2.2.9\n",
      "Note: you may need to restart the kernel to use updated packages.\n"
     ]
    }
   ],
   "source": [
    "pip install mysql-connector"
   ]
  },
  {
   "cell_type": "code",
   "execution_count": 7,
   "id": "a9e1ba46-3ca3-4a87-a409-cefd9ad5fada",
   "metadata": {},
   "outputs": [
    {
     "name": "stdout",
     "output_type": "stream",
     "text": [
      "Collecting pymysql\n",
      "  Downloading PyMySQL-1.1.1-py3-none-any.whl.metadata (4.4 kB)\n",
      "Downloading PyMySQL-1.1.1-py3-none-any.whl (44 kB)\n",
      "Installing collected packages: pymysql\n",
      "Successfully installed pymysql-1.1.1\n",
      "Note: you may need to restart the kernel to use updated packages.\n"
     ]
    }
   ],
   "source": [
    "pip install pymysql"
   ]
  },
  {
   "cell_type": "code",
   "execution_count": 2,
   "id": "211317ab-85d7-4b3e-83fb-c409de629e29",
   "metadata": {},
   "outputs": [
    {
     "name": "stdout",
     "output_type": "stream",
     "text": [
      "<pymysql.connections.Connection object at 0x000001B261ACF0E0>\n"
     ]
    }
   ],
   "source": [
    "import pymysql\n",
    "myconn = pymysql.connect(\n",
    "    host='localhost',\n",
    "    user = 'root',\n",
    "    password = 'manasi')\n",
    "print(myconn)"
   ]
  },
  {
   "cell_type": "code",
   "execution_count": 3,
   "id": "f4d9abcf-ada7-4fa7-937f-03b0540a5ccb",
   "metadata": {},
   "outputs": [
    {
     "name": "stdout",
     "output_type": "stream",
     "text": [
      "<pymysql.cursors.Cursor object at 0x000001B261AFD220>\n"
     ]
    }
   ],
   "source": [
    "cur = myconn.cursor()\n",
    "print(cur)"
   ]
  },
  {
   "cell_type": "code",
   "execution_count": 4,
   "id": "59c99c3e-c71f-4a7b-a916-b427ccc77073",
   "metadata": {},
   "outputs": [
    {
     "data": {
      "text/plain": [
       "1"
      ]
     },
     "execution_count": 4,
     "metadata": {},
     "output_type": "execute_result"
    }
   ],
   "source": [
    "cur.execute('create database pywit')"
   ]
  },
  {
   "cell_type": "code",
   "execution_count": 7,
   "id": "d1035e30-5eb7-4e67-9f39-370c074a30bf",
   "metadata": {},
   "outputs": [
    {
     "data": {
      "text/plain": [
       "11"
      ]
     },
     "execution_count": 7,
     "metadata": {},
     "output_type": "execute_result"
    }
   ],
   "source": [
    "cur.execute('show databases')"
   ]
  },
  {
   "cell_type": "code",
   "execution_count": 9,
   "id": "a71a3cfa-dfaf-46ee-bab5-0f158ad6bfd3",
   "metadata": {},
   "outputs": [
    {
     "name": "stdout",
     "output_type": "stream",
     "text": [
      "('college',)\n",
      "('company',)\n",
      "('hospital',)\n",
      "('information_schema',)\n",
      "('mysql',)\n",
      "('performance_schema',)\n",
      "('pymy',)\n",
      "('pywit',)\n",
      "('sakila',)\n",
      "('sys',)\n",
      "('world',)\n"
     ]
    }
   ],
   "source": [
    "for i in cur:\n",
    "    print(i)"
   ]
  },
  {
   "cell_type": "code",
   "execution_count": 1,
   "id": "683a153e-494c-4c89-a095-336fa5e43446",
   "metadata": {},
   "outputs": [
    {
     "name": "stdout",
     "output_type": "stream",
     "text": [
      "<pymysql.connections.Connection object at 0x00000251259ADA60>\n"
     ]
    }
   ],
   "source": [
    "import pymysql\n",
    "myconn = pymysql.connect(\n",
    "\n",
    "    host = 'localhost',\n",
    "    user = 'root',\n",
    "    password = 'manasi',\n",
    "    database = 'pywit'\n",
    ")\n",
    "print(myconn)"
   ]
  },
  {
   "cell_type": "raw",
   "id": "0b0a2fd9-2407-4528-8fe5-51c102f9ec82",
   "metadata": {},
   "source": [
    "cur = myconn.cursor()\n"
   ]
  },
  {
   "cell_type": "code",
   "execution_count": 3,
   "id": "a1f72c2f-b509-4d53-8f8f-eb0f0f4e0457",
   "metadata": {},
   "outputs": [
    {
     "ename": "NameError",
     "evalue": "name 'cur' is not defined",
     "output_type": "error",
     "traceback": [
      "\u001b[1;31m---------------------------------------------------------------------------\u001b[0m",
      "\u001b[1;31mNameError\u001b[0m                                 Traceback (most recent call last)",
      "Cell \u001b[1;32mIn[3], line 1\u001b[0m\n\u001b[1;32m----> 1\u001b[0m \u001b[43mcur\u001b[49m\u001b[38;5;241m.\u001b[39mexecute(\u001b[38;5;124m'\u001b[39m\u001b[38;5;124mcreate table new(id int primary key,name varchar(20),age int)\u001b[39m\u001b[38;5;124m'\u001b[39m)\n",
      "\u001b[1;31mNameError\u001b[0m: name 'cur' is not defined"
     ]
    }
   ],
   "source": [
    "cur.execute('create table new(id int primary key,name varchar(20),age int)')"
   ]
  },
  {
   "cell_type": "code",
   "execution_count": 6,
   "id": "d43f22f8-ca68-466e-8c2b-4072045d23d9",
   "metadata": {},
   "outputs": [
    {
     "name": "stdout",
     "output_type": "stream",
     "text": [
      "('new',)\n"
     ]
    }
   ],
   "source": [
    "cur.execute('show tables')\n",
    "for i in cur:\n",
    "    print(i)"
   ]
  },
  {
   "cell_type": "code",
   "execution_count": 7,
   "id": "ff15e770-d659-463c-9f55-df08a580294a",
   "metadata": {},
   "outputs": [
    {
     "name": "stdout",
     "output_type": "stream",
     "text": [
      "('id', 'int', 'NO', 'PRI', None, '')\n",
      "('name', 'varchar(20)', 'YES', '', None, '')\n",
      "('age', 'int', 'YES', '', None, '')\n"
     ]
    }
   ],
   "source": [
    "cur.execute('desc new')\n",
    "for i in cur:\n",
    "    print(i)"
   ]
  },
  {
   "cell_type": "code",
   "execution_count": 8,
   "id": "90fd1ab0-1c45-4398-a6d3-670f787cd8b6",
   "metadata": {},
   "outputs": [
    {
     "data": {
      "text/plain": [
       "0"
      ]
     },
     "execution_count": 8,
     "metadata": {},
     "output_type": "execute_result"
    }
   ],
   "source": [
    "cur.execute('create table new1(id int primary key,name varchar(20),age int)')"
   ]
  },
  {
   "cell_type": "code",
   "execution_count": 9,
   "id": "6b5696ce-c6f1-4fb3-867e-aed4805c8ecb",
   "metadata": {},
   "outputs": [
    {
     "name": "stdout",
     "output_type": "stream",
     "text": [
      "('id', 'int', 'NO', 'PRI', None, '')\n",
      "('name', 'varchar(20)', 'YES', '', None, '')\n",
      "('age', 'int', 'YES', '', None, '')\n"
     ]
    }
   ],
   "source": [
    "cur.execute('desc new1')\n",
    "for i in cur:\n",
    "    print(i)"
   ]
  },
  {
   "cell_type": "code",
   "execution_count": 10,
   "id": "a04447f3-44b2-468d-a7e0-2e6c9fe41f5b",
   "metadata": {},
   "outputs": [
    {
     "name": "stdout",
     "output_type": "stream",
     "text": [
      "('new',)\n",
      "('new1',)\n"
     ]
    }
   ],
   "source": [
    "cur.execute('show tables')\n",
    "for i in cur:\n",
    "    print(i)"
   ]
  },
  {
   "cell_type": "code",
   "execution_count": 11,
   "id": "1ba0e597-a5ee-4b09-9d65-78cf473697b9",
   "metadata": {},
   "outputs": [
    {
     "data": {
      "text/plain": [
       "0"
      ]
     },
     "execution_count": 11,
     "metadata": {},
     "output_type": "execute_result"
    }
   ],
   "source": [
    "cur.execute('alter table new rename to newdata')"
   ]
  },
  {
   "cell_type": "code",
   "execution_count": 12,
   "id": "9e334ad7-31be-4c20-863a-f7583e08b39d",
   "metadata": {},
   "outputs": [
    {
     "name": "stdout",
     "output_type": "stream",
     "text": [
      "('new1',)\n",
      "('newdata',)\n"
     ]
    }
   ],
   "source": [
    "cur.execute('show tables')\n",
    "for i in cur:\n",
    "    print(i)"
   ]
  },
  {
   "cell_type": "code",
   "execution_count": 13,
   "id": "4366227d-dd96-47c5-96c1-e75cf02408e9",
   "metadata": {},
   "outputs": [
    {
     "data": {
      "text/plain": [
       "0"
      ]
     },
     "execution_count": 13,
     "metadata": {},
     "output_type": "execute_result"
    }
   ],
   "source": [
    "cur.execute('drop table new1')"
   ]
  },
  {
   "cell_type": "code",
   "execution_count": 14,
   "id": "493379fb-4409-409a-8357-562a74c9baf2",
   "metadata": {},
   "outputs": [
    {
     "name": "stdout",
     "output_type": "stream",
     "text": [
      "('newdata',)\n"
     ]
    }
   ],
   "source": [
    "cur.execute('show tables')\n",
    "for i in cur:\n",
    "    print(i)"
   ]
  },
  {
   "cell_type": "code",
   "execution_count": 2,
   "id": "4993880a-c4ec-426d-9dfb-6457d13ad761",
   "metadata": {},
   "outputs": [
    {
     "ename": "NameError",
     "evalue": "name 'cur' is not defined",
     "output_type": "error",
     "traceback": [
      "\u001b[1;31m---------------------------------------------------------------------------\u001b[0m",
      "\u001b[1;31mNameError\u001b[0m                                 Traceback (most recent call last)",
      "Cell \u001b[1;32mIn[2], line 1\u001b[0m\n\u001b[1;32m----> 1\u001b[0m \u001b[43mcur\u001b[49m\u001b[38;5;241m.\u001b[39mexecute(\u001b[38;5;124m'\u001b[39m\u001b[38;5;124minsert into newdata(id,name,age) values(\u001b[39m\u001b[38;5;132;01m%s\u001b[39;00m\u001b[38;5;124m,\u001b[39m\u001b[38;5;132;01m%s\u001b[39;00m\u001b[38;5;124m,\u001b[39m\u001b[38;5;132;01m%s\u001b[39;00m\u001b[38;5;124m)\u001b[39m\u001b[38;5;124m'\u001b[39m,(\u001b[38;5;241m1\u001b[39m,\u001b[38;5;124m'\u001b[39m\u001b[38;5;124mram\u001b[39m\u001b[38;5;124m'\u001b[39m,\u001b[38;5;241m20\u001b[39m));\n\u001b[0;32m      2\u001b[0m myconn\u001b[38;5;241m.\u001b[39mcommit()\n",
      "\u001b[1;31mNameError\u001b[0m: name 'cur' is not defined"
     ]
    }
   ],
   "source": [
    "cur.execute('insert into newdata(id,name,age) values(%s,%s,%s)',(1,'ram',20));\n",
    "myconn.commit()"
   ]
  },
  {
   "cell_type": "code",
   "execution_count": null,
   "id": "d0a22783-2aee-4be8-bf7d-079c24f9a75f",
   "metadata": {},
   "outputs": [],
   "source": []
  }
 ],
 "metadata": {
  "kernelspec": {
   "display_name": "Python 3 (ipykernel)",
   "language": "python",
   "name": "python3"
  },
  "language_info": {
   "codemirror_mode": {
    "name": "ipython",
    "version": 3
   },
   "file_extension": ".py",
   "mimetype": "text/x-python",
   "name": "python",
   "nbconvert_exporter": "python",
   "pygments_lexer": "ipython3",
   "version": "3.12.1"
  }
 },
 "nbformat": 4,
 "nbformat_minor": 5
}
