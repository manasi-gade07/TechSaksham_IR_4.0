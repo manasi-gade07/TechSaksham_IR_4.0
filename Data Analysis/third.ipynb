{
 "cells": [
  {
   "cell_type": "code",
   "execution_count": 1,
   "id": "abe2bb16-60f4-4ac2-a97f-b56bc15f3463",
   "metadata": {},
   "outputs": [],
   "source": [
    "import pymysql                                                        # Server connection\n",
    "myconn = pymysql.connect(\n",
    "\n",
    "    host = 'localhost',\n",
    "    user = 'root',\n",
    "    password = 'manasi',\n",
    "    database = 'pywit'\n",
    ")\n",
    "cur = myconn.cursor()"
   ]
  },
  {
   "cell_type": "code",
   "execution_count": 8,
   "id": "a0db46fc-53dd-4373-acb4-852e4daca9b6",
   "metadata": {},
   "outputs": [
    {
     "name": "stdout",
     "output_type": "stream",
     "text": [
      "with XYZ table exist...try with different name\n"
     ]
    }
   ],
   "source": [
    "def createtable(tname):                                                             # Table Creation\n",
    "    try:\n",
    "        t= f'create table {tname} ( id int primary key auto_increment,name varchar(20),dob date,location varchar(20))'\n",
    "        cur.execute(t)\n",
    "        print(f'{tname} table created successfully')\n",
    "    except:\n",
    "        print(f'with {tname} table exist...try with different name')\n",
    "\n",
    "createtable('XYZ')\n",
    "\n"
   ]
  },
  {
   "cell_type": "code",
   "execution_count": 13,
   "id": "ef2e1813-1129-40ea-ae7b-f1e46a6772a4",
   "metadata": {},
   "outputs": [
    {
     "name": "stdout",
     "output_type": "stream",
     "text": [
      "added column salary float successfully in table XYZ\n"
     ]
    }
   ],
   "source": [
    "def addcolumn(tname,cname):                                                # Adding columns to Tables\n",
    "    try:\n",
    "        query =f'alter table {tname} add column {cname}'\n",
    "        cur.execute(query)\n",
    "        print(f'added column {cname} successfully in table {tname}')\n",
    "    except:\n",
    "        print('{cname} already exists...')\n",
    "addcolumn('XYZ','salary float')\n",
    "    "
   ]
  },
  {
   "cell_type": "code",
   "execution_count": 12,
   "id": "0ab4bcc4-2090-4de4-9ad4-6b2f0884115a",
   "metadata": {},
   "outputs": [
    {
     "name": "stdout",
     "output_type": "stream",
     "text": [
      "changed column name successfully from salary to salary float\n"
     ]
    }
   ],
   "source": [
    "import pymysql                                                         #Rename Column\n",
    "myconn = pymysql.connect(\n",
    "\n",
    "    host = 'localhost',\n",
    "    user = 'root',\n",
    "    password = 'manasi',\n",
    "    database = 'pywit'\n",
    ")\n",
    "cur = myconn.cursor()\n",
    "def renameColumn(tname,oldcname,newcname):\n",
    "    try:\n",
    "        query = f'alter table {tname} change {oldcname}  {newcname}'\n",
    "        cur.execute(query)\n",
    "        print(f'changed column name successfully from {oldcname} to {newcname}')\n",
    "    except:\n",
    "        print(f'Kindly check  oldname {oldname} you entered again...')\n",
    "renameColumn('XYZ','salary','salary float')"
   ]
  },
  {
   "cell_type": "code",
   "execution_count": 5,
   "id": "02070f00-a895-47ae-a5ff-77f2674af58d",
   "metadata": {},
   "outputs": [
    {
     "name": "stdout",
     "output_type": "stream",
     "text": [
      "column modified successfully\n"
     ]
    }
   ],
   "source": [
    "def modifyColumn(tname,column,dtype):                                                # Modify Column\n",
    "    try:\n",
    "        query = f'alter table {tname} modify column {column} {dtype}'\n",
    "        cur.execute(query)\n",
    "        print(f'column modified successfully')\n",
    "    except:\n",
    "        print('oops you entered wrong datatype.. please check again !')\n",
    "\n",
    "modifyColumn('newdata','myage','int')"
   ]
  },
  {
   "cell_type": "code",
   "execution_count": 29,
   "id": "e583edee-70ce-40b1-b790-52ad4873e070",
   "metadata": {},
   "outputs": [
    {
     "name": "stdout",
     "output_type": "stream",
     "text": [
      "emp table deleted successfully\n"
     ]
    }
   ],
   "source": [
    "def tableDelete(tname):                                                             # Deletetion of Table\n",
    "    try:\n",
    "        query = f'drop table {tname}'\n",
    "        cur.execute(query)\n",
    "        print(f'{tname} table deleted successfully')\n",
    "    except:\n",
    "        print('{tname} table already deleted.. please enter valid table name')\n",
    "\n",
    "tableDelete('emp')"
   ]
  },
  {
   "cell_type": "code",
   "execution_count": null,
   "id": "e9247b3e-96af-439b-a255-65e68bcf154a",
   "metadata": {},
   "outputs": [],
   "source": [
    "def rename(oldname,newname):                                                               # Renaming of Table\n",
    "    try:\n",
    "        query = f'alter table {oldname} rename to {newname}'\n",
    "        cur.execute(query)\n",
    "        print(f'You successfully changed oldname {oldname} to newname {newname}')\n",
    "    except:\n",
    "        print('please enter valid table name')\n",
    "\n",
    "rename('XYZ','new_info')\n",
    "rename('new_info','XYZ')\n",
    "rename('new_info','XYZ')"
   ]
  },
  {
   "cell_type": "code",
   "execution_count": 4,
   "id": "eca1f029-fc1d-43cf-819b-efe3f6b94783",
   "metadata": {},
   "outputs": [
    {
     "name": "stdout",
     "output_type": "stream",
     "text": [
      "mark table deleted successfully\n"
     ]
    }
   ],
   "source": [
    "def truncateTable(tname):                                                              # Truncate Table\n",
    "    try:\n",
    "        query = f'truncate table {tname}'\n",
    "        cur.execute(query)\n",
    "        print(f'{tname} table deleted successfully')\n",
    "    except:\n",
    "          print('{tname} table already deleted.. please enter valid table name')\n",
    "\n",
    "\n",
    "truncateTable('mark')"
   ]
  },
  {
   "cell_type": "code",
   "execution_count": 3,
   "id": "6a00c365-3530-49fb-9b56-8b48f760182c",
   "metadata": {},
   "outputs": [
    {
     "name": "stdout",
     "output_type": "stream",
     "text": [
      "aditya,2025-02-22,delhi,25000 inserted succcessfully in table XYZ\n"
     ]
    }
   ],
   "source": [
    "import pymysql                                                         # Data Insertion in Table\n",
    "myconn = pymysql.connect(\n",
    "\n",
    "    host = 'localhost',\n",
    "    user = 'root',\n",
    "    password = 'manasi',\n",
    "    database = 'pywit'\n",
    ")\n",
    "cur = myconn.cursor()\n",
    "def dataInsert(tname,name,dob,location,salary):\n",
    "    query= f'insert into {tname} (name,dob,location,salary) values(%s,%s,%s,%s)'\n",
    "    val = (name,dob,location,salary)\n",
    "    cur.execute(query,val)\n",
    "    myconn.commit()\n",
    "    print(f'{name},{dob},{location},{salary} inserted succcessfully in table {tname}')\n",
    "dataInsert('XYZ','aditya','2025-02-22','delhi','25000')\n"
   ]
  },
  {
   "cell_type": "code",
   "execution_count": 6,
   "id": "0258675f-1659-4846-8d92-9c89e8aef7d7",
   "metadata": {},
   "outputs": [
    {
     "name": "stdout",
     "output_type": "stream",
     "text": [
      "data at 1 deleted succcessfully from table XYZ\n"
     ]
    }
   ],
   "source": [
    "def dataDelete(tname,id1):                                             # Data Deletion\n",
    "    query= f'delete from {tname} where id = {id1}'\n",
    "    cur.execute(query)\n",
    "    myconn.commit()\n",
    "    print(f'data at id {id1} deleted succcessfully from table {tname}')\n",
    "\n",
    "dataDelete('XYZ','1')"
   ]
  },
  {
   "cell_type": "code",
   "execution_count": 7,
   "id": "9be0b9ef-61cd-4da5-b89b-d5f68ad1997c",
   "metadata": {},
   "outputs": [
    {
     "name": "stdout",
     "output_type": "stream",
     "text": [
      "()\n"
     ]
    }
   ],
   "source": [
    "def Filter(tname,start,end):\n",
    "    query = f'select * from {tname} where name like \"{start} % {end}\"'\n",
    "    cur.execute(query)\n",
    "    a = cur.fetchall()\n",
    "    print(a)\n",
    "\n",
    "Filter('XYZ','b','i')"
   ]
  },
  {
   "cell_type": "code",
   "execution_count": 2,
   "id": "24085460-b046-48fb-8be7-1841f9157b4c",
   "metadata": {},
   "outputs": [
    {
     "name": "stdout",
     "output_type": "stream",
     "text": [
      "()\n"
     ]
    }
   ],
   "source": [
    "import pymysql                                                         # Data Insertion in Table\n",
    "myconn = pymysql.connect(\n",
    "\n",
    "    host = 'localhost',\n",
    "    user = 'root',\n",
    "    password = 'manasi',\n",
    "    database = 'pywit'\n",
    ")\n",
    "cur = myconn.cursor()\n",
    "def Filter(tname,start,end):\n",
    "    query = f'select * from {tname} where name like \"{start} % {end}\"'\n",
    "    cur.execute(query)\n",
    "    a = cur.fetchall()\n",
    "    print(a)\n",
    "\n",
    "Filter('XYZ','b','i')"
   ]
  },
  {
   "cell_type": "code",
   "execution_count": 7,
   "id": "44a98d3f-cdaa-413f-8f50-22a2f047d42f",
   "metadata": {},
   "outputs": [],
   "source": [
    "def dataInsertMany(tname, *data):                                                # Multiple Data insertion\n",
    "    query = f'INSERT INTO {tname} (name, dob, location, salary) VALUES (%s, %s, %s, %s)'\n",
    "    cur.executemany(query, data)  # Use executemany() for multiple records\n",
    "    myconn.commit()\n",
    "    print(f'Successfully entered data')\n",
    "\n",
    "dataInsertMany('XYZ', \n",
    "    ('ram', '2025-02-23', 'delhi', '30000'), \n",
    "    ('mahi', '2025-04-29', 'mumbai', '40000')\n",
    ")\n"
   ]
  },
  {
   "cell_type": "code",
   "execution_count": 32,
   "id": "a4a57d97-8655-4567-a85e-38d8c536a3b4",
   "metadata": {},
   "outputs": [
    {
     "name": "stdout",
     "output_type": "stream",
     "text": [
      "Successfully entered data\n"
     ]
    }
   ],
   "source": [
    "def dataInsertMany(tname, *data):                                                # Multiple Data insertion\n",
    "    query = f'INSERT INTO {tname} ( name, dob, school) VALUES ( %s, %s, %s)'\n",
    "    cur.executemany(query, data)  # Use executemany() for multiple records\n",
    "    myconn.commit()\n",
    "    print(f'Successfully entered data')\n",
    "\n",
    "dataInsertMany('student', \n",
    "    ('ram', '2025-02-23', 'delhi_school'), \n",
    "    ('mahi', '2025-04-29', 'mumbai_school')\n",
    ")"
   ]
  },
  {
   "cell_type": "code",
   "execution_count": 33,
   "id": "090a5f13-163a-4133-b78c-4693efb5b89b",
   "metadata": {},
   "outputs": [
    {
     "name": "stdout",
     "output_type": "stream",
     "text": [
      "Successfully entered data\n"
     ]
    }
   ],
   "source": [
    "def dataInsertMany(tname, *data):                                                # Multiple Data insertion\n",
    "    query = f'INSERT INTO {tname} ( id,seat, subject) VALUES ( %s, %s, %s)'\n",
    "    cur.executemany(query, data)  # Use executemany() for multiple records\n",
    "    myconn.commit()\n",
    "    print(f'Successfully entered data')\n",
    "\n",
    "dataInsertMany('marks', \n",
    "    ('101', '1', 'phy'), \n",
    "    ('102', '2', 'che')\n",
    ")"
   ]
  },
  {
   "cell_type": "code",
   "execution_count": 36,
   "id": "6dffbd70-6848-48f1-a31c-2df16755e443",
   "metadata": {},
   "outputs": [
    {
     "name": "stdout",
     "output_type": "stream",
     "text": [
      "(1, 'ram', datetime.date(2025, 2, 23), 'delhi_school')\n",
      "(2, 'mahi', datetime.date(2025, 4, 29), 'mumbai_school')\n"
     ]
    }
   ],
   "source": [
    "\n",
    "cur.execute('select * from student')\n",
    "for i in cur:\n",
    "    print(i)"
   ]
  },
  {
   "cell_type": "raw",
   "id": "95d66714-5804-450e-b7b0-179dbb0bebbd",
   "metadata": {},
   "source": [
    "cur.execute('select  * from marks')\n",
    "for i in cur:\n",
    "    print(i)"
   ]
  },
  {
   "cell_type": "code",
   "execution_count": null,
   "id": "95bf5ef3-0cd4-4403-bd01-fea28315076d",
   "metadata": {},
   "outputs": [],
   "source": [
    "\n",
    "a = []\n",
    "tname = input('set table name:')\n",
    "while True:\n",
    "    column = input('set column name data  type and constraints or \"break\":')\n",
    "    if column == 'break':\n",
    "        break\n",
    "    a.append(column)\n",
    "b = \",\".join(a)\n",
    "print(b)\n",
    "query = f'create table {tname} ({b})'\n",
    "cur.execute(query)\n",
    "print(f'Table created successfully')"
   ]
  },
  {
   "cell_type": "code",
   "execution_count": 6,
   "id": "7d2242c9-05f5-4770-989b-eb1cd04d475c",
   "metadata": {},
   "outputs": [
    {
     "name": "stdout",
     "output_type": "stream",
     "text": [
      "Successfully entered data\n"
     ]
    }
   ],
   "source": [
    "def dataInsertMany(tname, *data):                                                # Multiple Data insertion\n",
    "    query = f'INSERT INTO {tname} ( id,phy,che,bio,seat) VALUES ( %s, %s, %s,%s,%s)'\n",
    "    cur.executemany(query, data)  # Use executemany() for multiple records\n",
    "    myconn.commit()\n",
    "    print(f'Successfully entered data')\n",
    "\n",
    "dataInsertMany('marks', \n",
    "    ('101', '34', '45','66',1), \n",
    "    ('102', '41', '43','89',2)\n",
    ")"
   ]
  },
  {
   "cell_type": "code",
   "execution_count": 7,
   "id": "a6aae990-737c-429c-9521-5f805b12a5b0",
   "metadata": {},
   "outputs": [
    {
     "name": "stdout",
     "output_type": "stream",
     "text": [
      "(101, 34.0, 45.0, 66.0, 1)\n",
      "(102, 41.0, 43.0, 89.0, 2)\n"
     ]
    }
   ],
   "source": [
    "cur.execute('select * from marks')\n",
    "for i in cur:\n",
    "    print(i)"
   ]
  },
  {
   "cell_type": "code",
   "execution_count": 9,
   "id": "f12ea30f-fb0b-46d2-a388-3c41bad51bcf",
   "metadata": {},
   "outputs": [
    {
     "name": "stdout",
     "output_type": "stream",
     "text": [
      "seat no:1\n",
      "student name:ram\n",
      "student name:delhi_school\n",
      "******************************\n",
      "phy = 34.0\n",
      "che = 45.0\n",
      "bio = 66.0\n",
      "pass\n",
      "avg marks are 48.333333333333336\n"
     ]
    }
   ],
   "source": [
    "import pymysql                                                        # Server connection\n",
    "myconn = pymysql.connect(\n",
    "\n",
    "    host = 'localhost',\n",
    "    user = 'root',\n",
    "    password = 'manasi',\n",
    "    database = 'pywit'\n",
    ")\n",
    "cur = myconn.cursor()\n",
    "def result(seat,name):\n",
    "     cur.execute(f'select * from student where seat = %s and name=%s',(seat,name))\n",
    "     a = cur.fetchone()\n",
    "     cur.execute('select * from marks where seat = %s ',a[0])\n",
    "     b = cur.fetchone()\n",
    "     label = ['','phy','che','bio']\n",
    "     avg = 0\n",
    "     print(f'seat no:{a[0]}')\n",
    "     print(f'student name:{a[1]}')\n",
    "     print(f'student name:{a[3]}')\n",
    "     print('*'*30)\n",
    "     for i in range(1,len(label)):\n",
    "         print(f'{label[i]} = {b[i]}')\n",
    "         avg += b[i]\n",
    "         c = avg/3\n",
    "     if c >= 40 and c <=100:\n",
    "                 print('pass')\n",
    "     else:\n",
    "            print('fail')\n",
    "     print('avg marks are',(avg/3))\n",
    "    \n",
    "\n",
    "result(1,'ram')"
   ]
  },
  {
   "cell_type": "code",
   "execution_count": null,
   "id": "459c552b-fa9f-441b-9d18-cd3df359ee23",
   "metadata": {},
   "outputs": [],
   "source": []
  }
 ],
 "metadata": {
  "kernelspec": {
   "display_name": "Python 3 (ipykernel)",
   "language": "python",
   "name": "python3"
  },
  "language_info": {
   "codemirror_mode": {
    "name": "ipython",
    "version": 3
   },
   "file_extension": ".py",
   "mimetype": "text/x-python",
   "name": "python",
   "nbconvert_exporter": "python",
   "pygments_lexer": "ipython3",
   "version": "3.12.1"
  }
 },
 "nbformat": 4,
 "nbformat_minor": 5
}
